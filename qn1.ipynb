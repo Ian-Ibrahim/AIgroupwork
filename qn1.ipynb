{
 "cells": [
  {
   "cell_type": "code",
   "execution_count": null,
   "metadata": {},
   "outputs": [],
   "source": [
    "import networkx as nx\n",
    "# importing matplotlib.pyplot\n",
    "import matplotlib.pyplot as plt\n",
    "G=nx.DiGraph()\n",
    "G.add_edge(\" SportsComplex\",\"Siwaka\" ,length=450)\n",
    "\n",
    "G.add_edge(\"Siwaka\",\"Ph1.A\",length=10)\n",
    "G.add_edge(\"Siwaka\",\"Ph1.B\",length=230)\n",
    "\n",
    "G.add_edge(\"Ph1.A\",\"Mada\",length=850)\n",
    "G.add_edge(\"Ph1.A\",\"Ph1.B\",length=100)\n",
    "\n",
    "G.add_edge(\"Ph1.B\",\"Phase2\",length=112)\n",
    "G.add_edge(\"Ph1.B\",\"STC\",length=50)\n",
    "\n",
    "G.add_edge(\"STC\",\"Phase2\",length=50)\n",
    "G.add_edge(\"STC\",\"ParkingLot\",length=250)\n",
    "\n",
    "G.add_edge(\"Phase2\",\"Phase3\",length=500)\n",
    "G.add_edge(\"Phase2\",\"J1\",length=600)\n",
    "\n",
    "G.add_edge(\"J1\",\"Mada\",length=200)\n",
    "\n",
    "G.add_edge(\"Phase3\",\"ParkingLot\",length=350)\n",
    "\n",
    "G.add_edge(\"ParkingLot\",\"Mada\",length=700,)\n",
    "\n",
    "nx.draw(G ,with_labels = True,node_size=500)\n",
    "plt.savefig(\"MadarakaEstateNetwork.png\")\n"
   ]
  },
  {
   "cell_type": "code",
   "execution_count": null,
   "metadata": {},
   "outputs": [],
   "source": []
  }
 ],
 "metadata": {
  "kernelspec": {
   "display_name": "Python 3",
   "language": "python",
   "name": "python3"
  },
  "language_info": {
   "codemirror_mode": {
    "name": "ipython",
    "version": 3
   },
   "file_extension": ".py",
   "mimetype": "text/x-python",
   "name": "python",
   "nbconvert_exporter": "python",
   "pygments_lexer": "ipython3",
   "version": "3.7.6"
  }
 },
 "nbformat": 4,
 "nbformat_minor": 4
}
